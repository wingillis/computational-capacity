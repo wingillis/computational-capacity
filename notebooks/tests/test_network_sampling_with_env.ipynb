{
 "cells": [
  {
   "cell_type": "code",
   "execution_count": null,
   "id": "021f8aae",
   "metadata": {},
   "outputs": [],
   "source": [
    "import gzip\n",
    "import torch\n",
    "import pickle\n",
    "import hashlib\n",
    "import platform\n",
    "import numpy as np\n",
    "import polars as pl\n",
    "import comp_capacity  # have to import to register custom gym env\n",
    "import gymnasium as gym\n",
    "\n",
    "from pathlib import Path\n",
    "from tqdm.auto import tqdm\n",
    "from comp_capacity.repr.network import (\n",
    "    ProgressiveRNN,\n",
    "    MatrixContainer,\n",
    "    sample_network,\n",
    ")\n",
    "from comp_capacity.repr.uid import generate_hash"
   ]
  },
  {
   "cell_type": "code",
   "execution_count": 2,
   "id": "67927ecc",
   "metadata": {},
   "outputs": [],
   "source": [
    "# define some folders to save data\n",
    "if platform.system() == \"Darwin\":\n",
    "    save_folder = Path(\"/Users/wingillis/Library/CloudStorage/SynologyDrive-sync/home/research-projects/computational-capacity\")\n",
    "elif platform.system() == \"Linux\":\n",
    "    save_folder = Path(\"/mnt/e/SynologyDrive/win/synology drive/home/research-projects/computational-capacity\")\n",
    "\n",
    "base_file_name = \"network-data-2025-04-24\""
   ]
  },
  {
   "cell_type": "code",
   "execution_count": 4,
   "id": "46252f97",
   "metadata": {},
   "outputs": [],
   "source": [
    "device = \"cpu\"\n",
    "# if torch.mps.is_available():\n",
    "#     # run on Mac GPU\n",
    "#     device = torch.device(\"mps\")\n",
    "# elif torch.cuda.is_available():\n",
    "#     # run on NVIDIA GPU\n",
    "#     device = torch.device(\"cuda\")"
   ]
  },
  {
   "cell_type": "code",
   "execution_count": 5,
   "id": "84f05e06",
   "metadata": {},
   "outputs": [],
   "source": [
    "# testing out the environment\n",
    "input_dim = 5\n",
    "output_dim = 1\n",
    "env = gym.make(\"NextStepFunction-v0\", function=\"sinusoidal\", steps=input_dim)"
   ]
  },
  {
   "cell_type": "code",
   "execution_count": null,
   "id": "e468dcd1",
   "metadata": {},
   "outputs": [],
   "source": [
    "# generates the topology \n",
    "p = 0.2\n",
    "seed = 0\n",
    "nodes = 1\n",
    "recurrent = False\n",
    "\n",
    "torch.manual_seed(seed)\n",
    "\n",
    "matrices = sample_network(\n",
    "    n_nodes=nodes,\n",
    "    connection_prob=p,\n",
    "    recurrent=recurrent,\n",
    "    device=device,\n",
    ")"
   ]
  },
  {
   "cell_type": "code",
   "execution_count": null,
   "id": "f2bdfe3c",
   "metadata": {},
   "outputs": [
    {
     "name": "stdout",
     "output_type": "stream",
     "text": [
      "obs [-0.08435708  0.58239485  0.42509462 -0.33368781 -0.62032294]\n",
      "reward -0.17336961266580336\n",
      "terminated True\n",
      "truncated False\n",
      "info {'params': (1.2739233746429086, -0.1321048632913019, 0.6404226504432821), 'function': 'sinusoidal'}\n",
      "hash 2d9f0bfc6e2d0726bee3b19cf98f664ca505710c5e625bd274f2ca9cd63af7ee\n"
     ]
    }
   ],
   "source": [
    "# example cell to run env a single step using network outputs\n",
    "network = ProgressiveRNN(matrices, input_dim=input_dim, output_dim=output_dim, device=device)\n",
    "obs, info = env.reset(seed=seed)\n",
    "X = torch.tensor(obs, dtype=torch.float).unsqueeze(0).to(device)\n",
    "\n",
    "# state variable useful for recurrent networks\n",
    "state = None\n",
    "\n",
    "# network returns the final layer output and current state\n",
    "out, state = network(X, state=state)\n",
    "\n",
    "# the \"loss\" is located within the reward. A larger loss is better\n",
    "obs, reward, terminated, truncated, info = env.step(out.detach().cpu().squeeze().numpy())\n",
    "print(\"obs\", obs)\n",
    "print(\"reward\", reward)\n",
    "print(\"terminated\", terminated)\n",
    "print(\"truncated\", truncated)\n",
    "print(\"info\", info)\n",
    "\n",
    "cat, sizes = matrices.concat()\n",
    "\n",
    "# example of generating a hash\n",
    "_hash = generate_hash(matrices)\n",
    "print(\"hash\", _hash)"
   ]
  },
  {
   "cell_type": "code",
   "execution_count": null,
   "id": "b360aed3",
   "metadata": {},
   "outputs": [
    {
     "ename": "SyntaxError",
     "evalue": "':' expected after dictionary key (101936976.py, line 145)",
     "output_type": "error",
     "traceback": [
      "  \u001b[36mCell\u001b[39m\u001b[36m \u001b[39m\u001b[32mIn[16]\u001b[39m\u001b[32m, line 145\u001b[39m\n\u001b[31m    \u001b[39m\u001b[31m\"resample\"\u001b[39m\n             ^\n\u001b[31mSyntaxError\u001b[39m\u001b[31m:\u001b[39m ':' expected after dictionary key\n"
     ]
    }
   ],
   "source": [
    "# TODO: save matrices separately\n",
    "#  - run in recurrent mode (i.e., a few network steps before taking action)\n",
    "#  - try running backprop for a few steps to see if I can add improvement\n",
    "#  - try resampling network parameters multiple times\n",
    "\n",
    "increase_node_prob = 1 / 1000\n",
    "\n",
    "p = 0.4\n",
    "nodes = 2\n",
    "recurrent = False\n",
    "n_samples = int(1e6)\n",
    "num_envs = 10\n",
    "\n",
    "# `make_vec` vectorizes the environment, so that it can run in \"batch\" mode\n",
    "# (i.e., multiple environments at once)\n",
    "steps = 10\n",
    "envs = {\n",
    "    \"next-step-sin\": gym.make_vec(\n",
    "        \"NextStepFunction-v0\",\n",
    "        function=\"sinusoidal\",\n",
    "        steps=steps,\n",
    "        num_envs=num_envs,\n",
    "        vectorization_mode=\"async\",\n",
    "    ),\n",
    "    \"next-step-exp\": gym.make_vec(\n",
    "        \"NextStepFunction-v0\",\n",
    "        function=\"exponential\",\n",
    "        steps=steps,\n",
    "        num_envs=num_envs,\n",
    "        vectorization_mode=\"async\",\n",
    "    ),\n",
    "    \"next-step-linear\": gym.make_vec(\n",
    "        \"NextStepFunction-v0\",\n",
    "        function=\"linear\",\n",
    "        steps=steps,\n",
    "        num_envs=num_envs,\n",
    "        vectorization_mode=\"async\",\n",
    "    ),\n",
    "    \"sequence-abab\": gym.make_vec(\n",
    "        \"SequentialPatterns-v0\",\n",
    "        pattern=\"abab\",\n",
    "        steps=steps,\n",
    "        num_envs=num_envs,\n",
    "        vectorization_mode=\"async\",\n",
    "    ),\n",
    "    \"sequence-increase\": gym.make_vec(\n",
    "        \"SequentialPatterns-v0\",\n",
    "        pattern=\"increase\",\n",
    "        steps=steps,\n",
    "        num_envs=num_envs,\n",
    "        vectorization_mode=\"async\",\n",
    "    ),\n",
    "    \"sequence-last\": gym.make_vec(\n",
    "        \"SequentialPatterns-v0\",\n",
    "        pattern=\"last\",\n",
    "        steps=steps,\n",
    "        num_envs=num_envs,\n",
    "        vectorization_mode=\"async\",\n",
    "    ),\n",
    "}\n",
    "pbar = tqdm(range(n_samples), desc=f\"Sampling networks. {nodes=}\")\n",
    "\n",
    "# trick to get the number of nodes for each sample ahead of time\n",
    "node_increase_sample = (\n",
    "    torch.cumsum(torch.rand(n_samples) < increase_node_prob, 0) + nodes\n",
    ")\n",
    "\n",
    "# store generated matrices in a queue to keep I/O efficient\n",
    "matrix_store = {}\n",
    "\n",
    "df_items = []\n",
    "\n",
    "for seed in pbar:\n",
    "    # fix seed for reproducibility\n",
    "    torch.manual_seed(seed)\n",
    "\n",
    "    # get number of nodes for this sample\n",
    "    nodes = node_increase_sample[seed].cpu().item()\n",
    "\n",
    "    matrices = sample_network(\n",
    "        n_nodes=nodes,\n",
    "        connection_prob=p,\n",
    "        recurrent=recurrent,\n",
    "        device=device,\n",
    "    )\n",
    "\n",
    "    cat, sizes = matrices.concat()\n",
    "    cat = cat.cpu().numpy()\n",
    "\n",
    "    _hash = generate_hash(matrices)\n",
    "\n",
    "    matrix_store[_hash] = (cat, sizes)\n",
    "\n",
    "    # loop through all initialized environments, run one step through the network\n",
    "    # NOTE: each network has the same topology, but different random weights\n",
    "    for env_name, env in envs.items():\n",
    "\n",
    "        # NOTE: this only works for one-dimensional inputs - future update could handle multi-dimensional inputs\n",
    "        input_dim = env.observation_space.shape[-1]\n",
    "\n",
    "        categorical_sample = isinstance(\n",
    "            env.action_space, (gym.spaces.Discrete, gym.spaces.MultiDiscrete)\n",
    "        )\n",
    "        if isinstance(env.action_space, gym.spaces.MultiDiscrete):\n",
    "            # allows us to sample a categorical action (i.e., up, down, etc)\n",
    "            output_dim = env.action_space[0].n\n",
    "        else:\n",
    "            output_dim = env.action_space.shape[-1]\n",
    "\n",
    "        network = ProgressiveRNN(\n",
    "            matrices, input_dim=input_dim, output_dim=output_dim, device=device\n",
    "        )\n",
    "\n",
    "        # for this set of environments, we only take one step and then reset\n",
    "        obs, info = env.reset(seed=seed)\n",
    "        X = torch.tensor(obs, dtype=torch.float).to(device)\n",
    "        if obs.ndim == 1:\n",
    "            X = X.unsqueeze(0)\n",
    "        state = None\n",
    "        out, state = network(X, state=state)\n",
    "        if categorical_sample:\n",
    "            # sample action from network output\n",
    "            out = torch.distributions.Categorical(logits=out).sample()\n",
    "        obs, reward, terminated, truncated, info = env.step(\n",
    "            out.detach().cpu().squeeze().numpy()\n",
    "        )\n",
    "\n",
    "        # integrate data into dataframe\n",
    "        for i in range(num_envs):\n",
    "            df_items.append(\n",
    "                {\n",
    "                    \"id\": _hash,\n",
    "                    \"parameter_count\": sum(p.numel() for p in network.parameters()),\n",
    "                    \"batch\": i,\n",
    "                    \"nodes\": nodes,\n",
    "                    \"recurrent\": recurrent,\n",
    "                    \"seed\": seed,\n",
    "                    \"reward\": reward[i],\n",
    "                    \"input_dim\": input_dim,\n",
    "                    \"output_dim\": output_dim,\n",
    "                    \"env\": env_name,\n",
    "                    \"input_len\": input_dim,\n",
    "                    \"n_recurrent_edges\": torch.tril(matrices.connectivity).sum().item(),\n",
    "                    \"total_steps\": 1,\n",
    "                    \"resample\": 0,\n",
    "                }\n",
    "            )\n",
    "    # save dataframe every N samples\n",
    "    if seed % 2_000 == 0 and seed > 0:\n",
    "        df = pl.DataFrame(df_items)\n",
    "        df.write_parquet(\n",
    "            save_folder / f\"{base_file_name}.parquet\",\n",
    "            compression_level=5,\n",
    "        )\n",
    "\n",
    "        with gzip.open(\n",
    "            save_folder / f\"matrices-seed-{seed}-{base_file_name}.pkl.gz\",\n",
    "            \"wb\",\n",
    "            compresslevel=5,\n",
    "        ) as f:\n",
    "            pickle.dump(matrix_store, f)\n",
    "        matrix_store = {}\n",
    "\n",
    "    pbar.set_description(f\"Sampling networks. {nodes=}\")"
   ]
  },
  {
   "cell_type": "code",
   "execution_count": null,
   "id": "99e07fe1",
   "metadata": {},
   "outputs": [],
   "source": [
    "df = pl.DataFrame(df_items)\n",
    "df = df.unique(subset=[\"id\", \"batch\"]).sort(\"reward\", descending=True)\n",
    "df.write_parquet(\n",
    "    save_folder / f\"{base_file_name}.parquet\",\n",
    "    compression_level=5,\n",
    ")"
   ]
  },
  {
   "cell_type": "code",
   "execution_count": 3,
   "id": "75144594",
   "metadata": {},
   "outputs": [],
   "source": [
    "import matplotlib.pyplot as plt\n",
    "import seaborn as sns"
   ]
  },
  {
   "cell_type": "code",
   "execution_count": 4,
   "id": "dea423d4",
   "metadata": {},
   "outputs": [],
   "source": [
    "df = pl.read_parquet(save_folder / f\"{base_file_name}.parquet\")"
   ]
  },
  {
   "cell_type": "code",
   "execution_count": 5,
   "id": "ff1bd5a0",
   "metadata": {},
   "outputs": [],
   "source": [
    "df = df.unique(subset=[\"id\", \"batch\", \"env\"]).sort(\"reward\", descending=True)"
   ]
  },
  {
   "cell_type": "code",
   "execution_count": 15,
   "id": "65633777",
   "metadata": {},
   "outputs": [
    {
     "data": {
      "text/plain": [
       "<seaborn.axisgrid.FacetGrid at 0x7fcc50fd4fe0>"
      ]
     },
     "execution_count": 15,
     "metadata": {},
     "output_type": "execute_result"
    },
    {
     "data": {
      "image/png": "[encoded data removed]",
      "text/plain": [
       "<Figure size 600x400 with 6 Axes>"
      ]
     },
     "metadata": {},
     "output_type": "display_data"
    }
   ],
   "source": [
    "# avg = df.group_by([\"nodes\", \"env\"]).agg(pl.col(\"reward\").mean())\n",
    "avg = df.group_by([\"nodes\", \"batch\", \"env\"]).agg(pl.col(\"reward\").mean())\n",
    "\n",
    "# larger reward is better\n",
    "g = sns.FacetGrid(data=avg, col=\"env\", hue=\"env\", height=2, aspect=1, sharey=False, col_wrap=3)\n",
    "g.map(sns.scatterplot, \"nodes\", \"reward\", lw=0, s=15)"
   ]
  },
  {
   "cell_type": "code",
   "execution_count": null,
   "id": "1c641ee1",
   "metadata": {},
   "outputs": [
    {
     "data": {
      "text/html": [
       "<div><style>\n",
       ".dataframe > thead > tr,\n",
       ".dataframe > tbody > tr {\n",
       "  text-align: right;\n",
       "  white-space: pre-wrap;\n",
       "}\n",
       "</style>\n",
       "<small>shape: (5, 11)</small><table border=\"1\" class=\"dataframe\"><thead><tr><th>id</th><th>parameter_count</th><th>batch</th><th>nodes</th><th>recurrent</th><th>seed</th><th>reward</th><th>input_dim</th><th>output_dim</th><th>env</th><th>input_len</th></tr><tr><td>str</td><td>i64</td><td>i64</td><td>i64</td><td>bool</td><td>i64</td><td>f64</td><td>i64</td><td>i64</td><td>str</td><td>i64</td></tr></thead><tbody><tr><td>&quot;6f655a0b0de3716669af36dad9daae…</td><td>27</td><td>0</td><td>1</td><td>false</td><td>0</td><td>-0.369393</td><td>10</td><td>1</td><td>&quot;next-step-sin&quot;</td><td>10</td></tr><tr><td>&quot;6f655a0b0de3716669af36dad9daae…</td><td>27</td><td>1</td><td>1</td><td>false</td><td>0</td><td>-0.508168</td><td>10</td><td>1</td><td>&quot;next-step-sin&quot;</td><td>10</td></tr><tr><td>&quot;6f655a0b0de3716669af36dad9daae…</td><td>27</td><td>2</td><td>1</td><td>false</td><td>0</td><td>-0.613075</td><td>10</td><td>1</td><td>&quot;next-step-sin&quot;</td><td>10</td></tr><tr><td>&quot;6f655a0b0de3716669af36dad9daae…</td><td>27</td><td>3</td><td>1</td><td>false</td><td>0</td><td>-0.559413</td><td>10</td><td>1</td><td>&quot;next-step-sin&quot;</td><td>10</td></tr><tr><td>&quot;6f655a0b0de3716669af36dad9daae…</td><td>27</td><td>4</td><td>1</td><td>false</td><td>0</td><td>-0.870821</td><td>10</td><td>1</td><td>&quot;next-step-sin&quot;</td><td>10</td></tr></tbody></table></div>"
      ],
      "text/plain": [
       "shape: (5, 11)\n",
       "┌─────────────┬─────────────┬───────┬───────┬───┬───────────┬────────────┬─────────────┬───────────┐\n",
       "│ id          ┆ parameter_c ┆ batch ┆ nodes ┆ … ┆ input_dim ┆ output_dim ┆ env         ┆ input_len │\n",
       "│ ---         ┆ ount        ┆ ---   ┆ ---   ┆   ┆ ---       ┆ ---        ┆ ---         ┆ ---       │\n",
       "│ str         ┆ ---         ┆ i64   ┆ i64   ┆   ┆ i64       ┆ i64        ┆ str         ┆ i64       │\n",
       "│             ┆ i64         ┆       ┆       ┆   ┆           ┆            ┆             ┆           │\n",
       "╞═════════════╪═════════════╪═══════╪═══════╪═══╪═══════════╪════════════╪═════════════╪═══════════╡\n",
       "│ 6f655a0b0de ┆ 27          ┆ 0     ┆ 1     ┆ … ┆ 10        ┆ 1          ┆ next-step-s ┆ 10        │\n",
       "│ 3716669af36 ┆             ┆       ┆       ┆   ┆           ┆            ┆ in          ┆           │\n",
       "│ dad9daae…   ┆             ┆       ┆       ┆   ┆           ┆            ┆             ┆           │\n",
       "│ 6f655a0b0de ┆ 27          ┆ 1     ┆ 1     ┆ … ┆ 10        ┆ 1          ┆ next-step-s ┆ 10        │\n",
       "│ 3716669af36 ┆             ┆       ┆       ┆   ┆           ┆            ┆ in          ┆           │\n",
       "│ dad9daae…   ┆             ┆       ┆       ┆   ┆           ┆            ┆             ┆           │\n",
       "│ 6f655a0b0de ┆ 27          ┆ 2     ┆ 1     ┆ … ┆ 10        ┆ 1          ┆ next-step-s ┆ 10        │\n",
       "│ 3716669af36 ┆             ┆       ┆       ┆   ┆           ┆            ┆ in          ┆           │\n",
       "│ dad9daae…   ┆             ┆       ┆       ┆   ┆           ┆            ┆             ┆           │\n",
       "│ 6f655a0b0de ┆ 27          ┆ 3     ┆ 1     ┆ … ┆ 10        ┆ 1          ┆ next-step-s ┆ 10        │\n",
       "│ 3716669af36 ┆             ┆       ┆       ┆   ┆           ┆            ┆ in          ┆           │\n",
       "│ dad9daae…   ┆             ┆       ┆       ┆   ┆           ┆            ┆             ┆           │\n",
       "│ 6f655a0b0de ┆ 27          ┆ 4     ┆ 1     ┆ … ┆ 10        ┆ 1          ┆ next-step-s ┆ 10        │\n",
       "│ 3716669af36 ┆             ┆       ┆       ┆   ┆           ┆            ┆ in          ┆           │\n",
       "│ dad9daae…   ┆             ┆       ┆       ┆   ┆           ┆            ┆             ┆           │\n",
       "└─────────────┴─────────────┴───────┴───────┴───┴───────────┴────────────┴─────────────┴───────────┘"
      ]
     },
     "execution_count": 15,
     "metadata": {},
     "output_type": "execute_result"
    }
   ],
   "source": [
    "df.head()"
   ]
  },
  {
   "cell_type": "markdown",
   "id": "1e86b913",
   "metadata": {},
   "source": [
    "# Future additions\n",
    "\n",
    "Adding recurrent connections. Only useful with mutliple timesteps (or for reaching a steady state).\n",
    "\n",
    "Adding envs with multiple timesteps:\n",
    "\n",
    "- add cartpole\n",
    "- add pendulum\n",
    "- add atari games\n"
   ]
  },
  {
   "cell_type": "code",
   "execution_count": null,
   "id": "48b42d44",
   "metadata": {},
   "outputs": [
    {
     "data": {
      "text/plain": [
       "27"
      ]
     },
     "execution_count": 15,
     "metadata": {},
     "output_type": "execute_result"
    }
   ],
   "source": []
  },
  {
   "cell_type": "code",
   "execution_count": null,
   "id": "07e9deaa",
   "metadata": {},
   "outputs": [],
   "source": []
  }
 ],
 "metadata": {
  "kernelspec": {
   "display_name": ".venv",
   "language": "python",
   "name": "python3"
  },
  "language_info": {
   "codemirror_mode": {
    "name": "ipython",
    "version": 3
   },
   "file_extension": ".py",
   "mimetype": "text/x-python",
   "name": "python",
   "nbconvert_exporter": "python",
   "pygments_lexer": "ipython3",
   "version": "3.12.10"
  }
 },
 "nbformat": 4,
 "nbformat_minor": 5
}
