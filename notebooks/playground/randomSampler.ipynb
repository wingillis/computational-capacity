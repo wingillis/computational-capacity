{
 "cells": [
  {
   "cell_type": "code",
   "execution_count": 1,
   "id": "5dbba028",
   "metadata": {},
   "outputs": [],
   "source": [
    "%load_ext autoreload\n",
    "%autoreload 2\n",
    "import comp_capacity\n",
    "\n",
    "import comp_capacity.repr\n",
    "import comp_capacity.repr.network"
   ]
  },
  {
   "cell_type": "code",
   "execution_count": 381,
   "id": "8d1172d7",
   "metadata": {},
   "outputs": [
    {
     "name": "stderr",
     "output_type": "stream",
     "text": [
      "/Users/richardhakim/Documents/github_repos/computational-capacity/.venv/lib/python3.12/site-packages/tqdm/auto.py:21: TqdmWarning: IProgress not found. Please update jupyter and ipywidgets. See https://ipywidgets.readthedocs.io/en/stable/user_install.html\n",
      "  from .autonotebook import tqdm as notebook_tqdm\n"
     ]
    }
   ],
   "source": [
    "import torch\n",
    "import matplotlib.pyplot as plt\n",
    "from tqdm.auto import tqdm"
   ]
  },
  {
   "cell_type": "code",
   "execution_count": 3,
   "id": "5b98ae63",
   "metadata": {},
   "outputs": [],
   "source": [
    "n_nodes = 10\n",
    "\n",
    "module_dict = {\n",
    "    \"linear\": torch.nn.Linear,\n",
    "}\n",
    "\n",
    "nonlinearity_dict = {\n",
    "    \"relu\": torch.nn.ReLU,\n",
    "    \"sigmoid\": torch.nn.Sigmoid,\n",
    "    \"tanh\": torch.nn.Tanh,\n",
    "}"
   ]
  },
  {
   "cell_type": "code",
   "execution_count": 4,
   "id": "3a884f70",
   "metadata": {},
   "outputs": [],
   "source": [
    "n_modules = len(module_dict)\n",
    "n_nonlinearities = len(nonlinearity_dict)\n",
    "\n",
    "module_namesIndex = {name: ii for ii, name in enumerate(module_dict.keys())}\n",
    "nonlinearity_namesIndex = {name: ii for ii, name in enumerate(nonlinearity_dict.keys())}"
   ]
  },
  {
   "cell_type": "code",
   "execution_count": 5,
   "id": "82bdce9f",
   "metadata": {},
   "outputs": [
    {
     "name": "stdout",
     "output_type": "stream",
     "text": [
      "{'linear': 0}\n",
      "{'relu': 0, 'sigmoid': 1, 'tanh': 2}\n"
     ]
    }
   ],
   "source": [
    "print(module_namesIndex)\n",
    "print(nonlinearity_namesIndex)"
   ]
  },
  {
   "cell_type": "code",
   "execution_count": 6,
   "id": "ef2a920f",
   "metadata": {},
   "outputs": [],
   "source": [
    "connectivity = (torch.rand(size=(n_nodes, n_nodes), dtype=torch.float32) * 2 - 1).triu(diagonal=1)\n",
    "module = torch.ones(size=(n_nodes, n_modules), dtype=torch.bool) * torch.as_tensor([1, 0], dtype=torch.bool)[None, :]\n",
    "nonlinearity = torch.ones(size=(n_nodes, n_nonlinearities), dtype=torch.bool) * torch.as_tensor([1, 0, 0], dtype=torch.bool)[None, :]\n",
    "\n",
    "network = comp_capacity.repr.network.Network(\n",
    "    matrices=comp_capacity.repr.network.MatrixContainer(\n",
    "        connectivity=connectivity,\n",
    "        module=module,\n",
    "        nonlinearity=nonlinearity,\n",
    "    )\n",
    ")"
   ]
  },
  {
   "cell_type": "code",
   "execution_count": 7,
   "id": "43bcedc2",
   "metadata": {},
   "outputs": [
    {
     "data": {
      "text/plain": [
       "Network. Constructor matrices: MatrixContainer: \n",
       "  Connectivity -- shape: torch.Size([10, 10]), dtype: torch.float32, device: cpu, requires_grad: False; \n",
       "  Module       -- shape: torch.Size([10, 2]), dtype: torch.bool, device: cpu, requires_grad: False; \n",
       "  Nonlinearity -- shape: torch.Size([10, 3]), dtype: torch.bool, device: cpu, requires_grad: False; "
      ]
     },
     "execution_count": 7,
     "metadata": {},
     "output_type": "execute_result"
    }
   ],
   "source": [
    "network"
   ]
  },
  {
   "cell_type": "code",
   "execution_count": 8,
   "id": "18bd29b6",
   "metadata": {},
   "outputs": [
    {
     "data": {
      "image/png": "[encoded data removed]",
      "text/plain": [
       "<Figure size 900x300 with 3 Axes>"
      ]
     },
     "metadata": {},
     "output_type": "display_data"
    }
   ],
   "source": [
    "network.plot_matrices()"
   ]
  },
  {
   "cell_type": "code",
   "execution_count": 9,
   "id": "02fbaf2d",
   "metadata": {},
   "outputs": [],
   "source": [
    "connectivity_constraint = torch.ones(size=(n_nodes, n_nodes), dtype=torch.bool).triu(diagonal=1)\n",
    "module_constraint = torch.ones(size=(n_nodes, n_modules), dtype=torch.bool) * torch.as_tensor([1, 0], dtype=torch.bool)[None, :]\n",
    "nonlinearity_constraint = torch.ones(size=(n_nodes, n_nonlinearities), dtype=torch.bool) * torch.as_tensor([1, 0, 0], dtype=torch.bool)[None, :]\n",
    "connectivity_bounds = (-1.0, 1.0)\n",
    "module_bounds = (1, 1)\n",
    "nonlinearity_bounds = (1, 1)\n",
    "\n",
    "sampler = comp_capacity.repr.network.Sampler_random(\n",
    "    connectivity_constraint=connectivity_constraint,\n",
    "    module_constraint=module_constraint,\n",
    "    nonlinearity_constraint=nonlinearity_constraint,\n",
    "    \n",
    "    connectivity_bounds=connectivity_bounds,\n",
    "    module_bounds=module_bounds,\n",
    "    nonlinearity_bounds=nonlinearity_bounds,\n",
    "    \n",
    "    dtype_connectivity=torch.float32,\n",
    "    dtype_module=torch.bool,\n",
    "    dtype_nonlinearity=torch.bool,\n",
    ")"
   ]
  },
  {
   "cell_type": "code",
   "execution_count": 10,
   "id": "5909be79",
   "metadata": {},
   "outputs": [],
   "source": [
    "network = sampler.forward(network=network)"
   ]
  },
  {
   "cell_type": "code",
   "execution_count": 11,
   "id": "0105a757",
   "metadata": {},
   "outputs": [
    {
     "data": {
      "image/png": "[encoded data removed]",
      "text/plain": [
       "<Figure size 900x300 with 3 Axes>"
      ]
     },
     "metadata": {},
     "output_type": "display_data"
    }
   ],
   "source": [
    "network.plot_matrices()"
   ]
  }
 ],
 "metadata": {
  "kernelspec": {
   "display_name": ".venv",
   "language": "python",
   "name": "python3"
  },
  "language_info": {
   "codemirror_mode": {
    "name": "ipython",
    "version": 3
   },
   "file_extension": ".py",
   "mimetype": "text/x-python",
   "name": "python",
   "nbconvert_exporter": "python",
   "pygments_lexer": "ipython3",
   "version": "3.12.9"
  }
 },
 "nbformat": 4,
 "nbformat_minor": 5
}
