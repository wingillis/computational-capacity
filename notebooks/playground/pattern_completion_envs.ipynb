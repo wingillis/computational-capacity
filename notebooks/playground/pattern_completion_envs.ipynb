{
 "cells": [
  {
   "cell_type": "code",
   "execution_count": 2,
   "id": "090a43ce",
   "metadata": {},
   "outputs": [],
   "source": [
    "import comp_capacity\n",
    "import gymnasium as gym\n",
    "from comp_capacity.sim.pattern_complete import Functions"
   ]
  },
  {
   "cell_type": "markdown",
   "id": "1c32e537",
   "metadata": {},
   "source": [
    "## NextStepFunction environment"
   ]
  },
  {
   "cell_type": "code",
   "execution_count": 7,
   "id": "082db26c",
   "metadata": {},
   "outputs": [
    {
     "name": "stdout",
     "output_type": "stream",
     "text": [
      "typing.Literal['linear', 'sinusoidal', 'exponential']\n"
     ]
    }
   ],
   "source": [
    "# function can be one of the following:\n",
    "print(Functions)"
   ]
  },
  {
   "cell_type": "code",
   "execution_count": null,
   "id": "ec4d6982",
   "metadata": {},
   "outputs": [],
   "source": [
    "# steps is number of steps within the NextStepFunction used to predict the subsequent step\n",
    "env = gym.make(\"NextStepFunction-v0\", function=\"linear\", steps=6)"
   ]
  },
  {
   "cell_type": "code",
   "execution_count": 19,
   "id": "67f5a93f",
   "metadata": {},
   "outputs": [
    {
     "data": {
      "text/plain": [
       "array([-0.13210486, -0.00637464,  0.11935558,  0.2450858 ,  0.37081602,\n",
       "        0.49654624])"
      ]
     },
     "execution_count": 19,
     "metadata": {},
     "output_type": "execute_result"
    }
   ],
   "source": [
    "obs, info = env.reset(seed=0)\n",
    "obs"
   ]
  },
  {
   "cell_type": "code",
   "execution_count": 20,
   "id": "4f2efdb6",
   "metadata": {},
   "outputs": [
    {
     "data": {
      "text/plain": [
       "{'params': (0.1257302210933933, -0.1321048632913019), 'function': 'linear'}"
      ]
     },
     "execution_count": 20,
     "metadata": {},
     "output_type": "execute_result"
    }
   ],
   "source": [
    "info"
   ]
  },
  {
   "cell_type": "code",
   "execution_count": 21,
   "id": "37f5ca90",
   "metadata": {},
   "outputs": [
    {
     "data": {
      "text/plain": [
       "np.float64(0.622276463269058)"
      ]
     },
     "execution_count": 21,
     "metadata": {},
     "output_type": "execute_result"
    }
   ],
   "source": [
    "# the goal - predict the target value\n",
    "target = env.get_wrapper_attr(\"target\")\n",
    "target"
   ]
  },
  {
   "cell_type": "code",
   "execution_count": 22,
   "id": "423a8729",
   "metadata": {},
   "outputs": [
    {
     "data": {
      "text/plain": [
       "np.float64(-0.0)"
      ]
     },
     "execution_count": 22,
     "metadata": {},
     "output_type": "execute_result"
    }
   ],
   "source": [
    "# how to predict - set the \"action\" to the predicted target value\n",
    "\n",
    "obs, reward, terminated, truncated, info = env.step(target)\n",
    "\n",
    "# reward represents the difference between the predicted and the actual target value\n",
    "reward"
   ]
  },
  {
   "cell_type": "markdown",
   "id": "e8d44ac9",
   "metadata": {},
   "source": [
    "## Pattern prediction environment"
   ]
  },
  {
   "cell_type": "code",
   "execution_count": 26,
   "id": "8dab4b05",
   "metadata": {},
   "outputs": [],
   "source": [
    "env = gym.make(\"SequentialPatterns-v0\", pattern=\"abab\", steps=7)"
   ]
  },
  {
   "cell_type": "code",
   "execution_count": 27,
   "id": "062f90bf",
   "metadata": {},
   "outputs": [
    {
     "data": {
      "text/plain": [
       "'bacbacb'"
      ]
     },
     "execution_count": 27,
     "metadata": {},
     "output_type": "execute_result"
    }
   ],
   "source": [
    "obs, info = env.reset()\n",
    "obs"
   ]
  },
  {
   "cell_type": "code",
   "execution_count": 28,
   "id": "5757937b",
   "metadata": {},
   "outputs": [
    {
     "data": {
      "text/plain": [
       "{'pattern': 'abab'}"
      ]
     },
     "execution_count": 28,
     "metadata": {},
     "output_type": "execute_result"
    }
   ],
   "source": [
    "info"
   ]
  },
  {
   "cell_type": "code",
   "execution_count": 29,
   "id": "f0f414f2",
   "metadata": {},
   "outputs": [
    {
     "data": {
      "text/plain": [
       "'a'"
      ]
     },
     "execution_count": 29,
     "metadata": {},
     "output_type": "execute_result"
    }
   ],
   "source": [
    "target = env.get_wrapper_attr(\"target\")\n",
    "target"
   ]
  },
  {
   "cell_type": "code",
   "execution_count": 31,
   "id": "ae18a9a9",
   "metadata": {},
   "outputs": [
    {
     "data": {
      "text/plain": [
       "1"
      ]
     },
     "execution_count": 31,
     "metadata": {},
     "output_type": "execute_result"
    }
   ],
   "source": [
    "obs, reward, terminated, truncated, info = env.step(target)\n",
    "reward"
   ]
  },
  {
   "cell_type": "code",
   "execution_count": null,
   "id": "47f3cc16",
   "metadata": {},
   "outputs": [],
   "source": []
  }
 ],
 "metadata": {
  "kernelspec": {
   "display_name": ".venv",
   "language": "python",
   "name": "python3"
  },
  "language_info": {
   "codemirror_mode": {
    "name": "ipython",
    "version": 3
   },
   "file_extension": ".py",
   "mimetype": "text/x-python",
   "name": "python",
   "nbconvert_exporter": "python",
   "pygments_lexer": "ipython3",
   "version": "3.12.10"
  }
 },
 "nbformat": 4,
 "nbformat_minor": 5
}
